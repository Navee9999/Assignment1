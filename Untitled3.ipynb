{
  "metadata": {
    "language_info": {
      "codemirror_mode": {
        "name": "python",
        "version": 3
      },
      "file_extension": ".py",
      "mimetype": "text/x-python",
      "name": "python",
      "nbconvert_exporter": "python",
      "pygments_lexer": "ipython3",
      "version": "3.8"
    },
    "kernelspec": {
      "name": "python",
      "display_name": "Python (Pyodide)",
      "language": "python"
    }
  },
  "nbformat_minor": 4,
  "nbformat": 4,
  "cells": [
    {
      "cell_type": "code",
      "source": "fruits = {'apple', 'banana', 'cherry', 'orange'}\nx = fruits.copy()\nprint(x)",
      "metadata": {
        "trusted": true
      },
      "execution_count": 11,
      "outputs": [
        {
          "name": "stdout",
          "text": "{'orange', 'apple', 'banana', 'cherry'}\n",
          "output_type": "stream"
        }
      ]
    },
    {
      "cell_type": "code",
      "source": "x = {\"apple\", \"banana\", \"cherry\",\"kiwi\"}\ny = {\"orange\", \"pineapple\", \"apple\"}\nz = x.difference(y)\nprint(z)",
      "metadata": {
        "trusted": true
      },
      "execution_count": 3,
      "outputs": [
        {
          "name": "stdout",
          "text": "{'kiwi', 'banana', 'cherry'}\n",
          "output_type": "stream"
        }
      ]
    },
    {
      "cell_type": "code",
      "source": "x = {\"apple\", \"banana\", \"cherry\",\"kiwi\"}\ny = {\"orange\",\"kiwi\", \"pineapple\", \"apple\"}\nz = x.intersection(y)\nprint(z)",
      "metadata": {
        "trusted": true
      },
      "execution_count": 5,
      "outputs": [
        {
          "name": "stdout",
          "text": "{'apple', 'kiwi'}\n",
          "output_type": "stream"
        }
      ]
    },
    {
      "cell_type": "code",
      "source": "x = {\"apple\", \"banana\", \"cherry\",\"kiwi\"}\ny = {\"orange\",\"kiwi\", \"pineapple\", \"apple\"}\nz = x.symmetric_difference(y)\nprint(z)",
      "metadata": {
        "trusted": true
      },
      "execution_count": 7,
      "outputs": [
        {
          "name": "stdout",
          "text": "{'orange', 'pineapple', 'banana', 'cherry'}\n",
          "output_type": "stream"
        }
      ]
    },
    {
      "cell_type": "code",
      "source": "x = { \"banana\", \"cherry\",\"kiwi\"}\ny = {\"orange\",\"kiwi\", \"pineapple\"}\nz = x.union(y)\nprint(z)",
      "metadata": {
        "trusted": true
      },
      "execution_count": 10,
      "outputs": [
        {
          "name": "stdout",
          "text": "{'orange', 'pineapple', 'banana', 'kiwi', 'cherry'}\n",
          "output_type": "stream"
        }
      ]
    },
    {
      "cell_type": "code",
      "source": "A = frozenset([1, 2, 3, 4])\nB = frozenset([3, 4, 5, 6])\nC = frozenset([5, 6])\n\n# isdisjoint() method\nprint(A.isdisjoint(B))\n\n# issubset() method\nprint(C.issubset(B))\n\n# issuperset() method\nprint(B.issuperset(C)) ",
      "metadata": {
        "trusted": true
      },
      "execution_count": 13,
      "outputs": [
        {
          "name": "stdout",
          "text": "False\nTrue\nTrue\n",
          "output_type": "stream"
        }
      ]
    },
    {
      "cell_type": "code",
      "source": "A.isdisjoint(C)",
      "metadata": {
        "trusted": true
      },
      "execution_count": 15,
      "outputs": [
        {
          "execution_count": 15,
          "output_type": "execute_result",
          "data": {
            "text/plain": "True"
          },
          "metadata": {}
        }
      ]
    },
    {
      "cell_type": "code",
      "source": "B.issubset()",
      "metadata": {
        "trusted": true
      },
      "execution_count": 16,
      "outputs": [
        {
          "execution_count": 16,
          "output_type": "execute_result",
          "data": {
            "text/plain": "False"
          },
          "metadata": {}
        }
      ]
    },
    {
      "cell_type": "code",
      "source": "",
      "metadata": {},
      "execution_count": null,
      "outputs": []
    }
  ]
}